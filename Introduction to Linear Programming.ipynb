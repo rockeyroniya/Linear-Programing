{
 "cells": [
  {
   "cell_type": "markdown",
   "id": "4739934f",
   "metadata": {},
   "source": [
    "# Part 1: Introduction to Linear Programming"
   ]
  },
  {
   "cell_type": "markdown",
   "id": "ab577035",
   "metadata": {},
   "source": [
    "Linear Programming (LP) is a mathematical method used to optimize (maximize or minimize) a specific objective, such as maximizing profit or minimizing cost, subject to a set of constraints.\n",
    "\n",
    "Key Concepts\n",
    "Objective: The goal you want to achieve (e.g., maximize profit).\n",
    "\n",
    "Constraints: The limitations or restrictions (e.g., limited resources).\n",
    "\n",
    "Decision Variables: The values you can control or change.\n",
    "\n",
    "Why \"Linear\"?\n",
    "All relationships in LP are linear, meaning:\n",
    "\n",
    "No powers, roots, or variable products (e.g., no x² or xy).\n",
    "\n",
    "Only terms like 3x + 2y.\n",
    "\n"
   ]
  },
  {
   "cell_type": "markdown",
   "id": "b90218b0",
   "metadata": {},
   "source": [
    "Example: Bakery Problem\n",
    "A bakery produces cakes and cookies.\n",
    "\n",
    "Step 1: Decision Variables\n",
    "Let\n",
    "x = number of cakes\n",
    "y = number of cookies\n",
    "\n",
    "Step 2: Objective Function\n",
    "Each cake earns $5, each cookie $3:\n",
    "Maximize Z = 5x + 3y\n",
    "\n",
    "Step 3: Constraints\n",
    "Resources are limited:\n",
    "Flour: 2x + y ≤ 100\n",
    "Sugar: x + y ≤ 80\n",
    "\n",
    "Step 4: Non-Negativity\n",
    "x ≥ 0, y ≥ 0\n",
    "\n",
    "Final LP Model\n",
    "Maximize:\n",
    "Z = 5x + 3y\n",
    "\n",
    "Subject to:\n",
    "2x + y ≤ 100\n",
    "x + y ≤ 80\n",
    "x ≥ 0, y ≥ 0"
   ]
  },
  {
   "cell_type": "code",
   "execution_count": 3,
   "id": "05327aae",
   "metadata": {},
   "outputs": [
    {
     "name": "stdout",
     "output_type": "stream",
     "text": [
      "Welcome to the CBC MILP Solver \n",
      "Version: 2.10.3 \n",
      "Build Date: Dec 15 2019 \n",
      "\n",
      "command line - /home/roniya/.local/lib/python3.10/site-packages/pulp/solverdir/cbc/linux/64/cbc /tmp/659254fc7fbe47568d8dfa6acfb734e2-pulp.mps -max -timeMode elapsed -branch -printingOptions all -solution /tmp/659254fc7fbe47568d8dfa6acfb734e2-pulp.sol (default strategy 1)\n",
      "At line 2 NAME          MODEL\n",
      "At line 3 ROWS\n",
      "At line 7 COLUMNS\n",
      "At line 14 RHS\n",
      "At line 17 BOUNDS\n",
      "At line 18 ENDATA\n",
      "Problem MODEL has 2 rows, 2 columns and 4 elements\n",
      "Coin0008I MODEL read with 0 errors\n",
      "Option for timeMode changed from cpu to elapsed\n",
      "Presolve 2 (0) rows, 2 (0) columns and 4 (0) elements\n",
      "0  Obj -0 Dual inf 7.9999998 (2)\n",
      "0  Obj -0 Dual inf 7.9999998 (2)\n",
      "2  Obj 280\n",
      "Optimal - objective value 280\n",
      "Optimal objective 280 - 2 iterations time 0.002\n",
      "Option for printingOptions changed from normal to all\n",
      "Total time (CPU seconds):       0.00   (Wallclock seconds):       0.00\n",
      "\n",
      "Status: Optimal\n",
      "Optimal number of cakes (x): 20.0\n",
      "Optimal number of cookies (y): 60.0\n",
      "Maximum Profit: $280.0\n"
     ]
    }
   ],
   "source": [
    "from pulp import LpMaximize, LpProblem, LpVariable, value, LpStatus\n",
    "\n",
    "# Define the LP problem\n",
    "model = LpProblem(\"Bakery_Profit_Maximization\", LpMaximize)\n",
    "\n",
    "# Define decision variables\n",
    "x = LpVariable(\"Cakes\", lowBound=0)\n",
    "y = LpVariable(\"Cookies\", lowBound=0)\n",
    "\n",
    "# Define the objective function\n",
    "model += 5 * x + 3 * y, \"Total_Profit\"\n",
    "\n",
    "# Add constraints\n",
    "model += 2 * x + y <= 100, \"Flour_Constraint\"\n",
    "model += x + y <= 80, \"Sugar_Constraint\"\n",
    "\n",
    "# Solve the problem\n",
    "model.solve()\n",
    "\n",
    "# Print the results\n",
    "print(f\"Status: {LpStatus[model.status]}\")\n",
    "print(f\"Optimal number of cakes (x): {x.value()}\")\n",
    "print(f\"Optimal number of cookies (y): {y.value()}\")\n",
    "print(f\"Maximum Profit: ${value(model.objective)}\")"
   ]
  },
  {
   "cell_type": "code",
   "execution_count": null,
   "id": "2b651f80",
   "metadata": {},
   "outputs": [],
   "source": []
  }
 ],
 "metadata": {
  "kernelspec": {
   "display_name": "Python 3 (ipykernel)",
   "language": "python",
   "name": "python3"
  },
  "language_info": {
   "codemirror_mode": {
    "name": "ipython",
    "version": 3
   },
   "file_extension": ".py",
   "mimetype": "text/x-python",
   "name": "python",
   "nbconvert_exporter": "python",
   "pygments_lexer": "ipython3",
   "version": "3.10.7"
  }
 },
 "nbformat": 4,
 "nbformat_minor": 5
}
