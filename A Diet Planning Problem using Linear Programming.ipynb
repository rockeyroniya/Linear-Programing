{
 "cells": [
  {
   "cell_type": "markdown",
   "id": "43c71b83",
   "metadata": {},
   "source": [
    "# Optimizing Nutrition: A Diet Planning Problem using Linear Programming"
   ]
  },
  {
   "cell_type": "code",
   "execution_count": null,
   "id": "c65dc280",
   "metadata": {},
   "outputs": [],
   "source": []
  },
  {
   "cell_type": "markdown",
   "id": "ac504252",
   "metadata": {},
   "source": [
    "Problem Statement\n",
    "\n",
    "A hospital wants to create the cheapest meal plan for patients while meeting their daily nutritional needs. There are two available food options:\n",
    "\n",
    "Food A and Food B\n",
    "\n",
    "\n",
    "Each food contains the following nutrients per serving:\n",
    "    "
   ]
  },
  {
   "cell_type": "raw",
   "id": "90cf11a5",
   "metadata": {},
   "source": [
    "Food\tProtein(g)\tFat(g)\tCarbs(g)\tCost(€)\n",
    "Food A\t10\t    6\t    8\t        2.00\n",
    "Food B\t4\t    3\t    12\t        1.50"
   ]
  },
  {
   "cell_type": "markdown",
   "id": "37df0b4d",
   "metadata": {},
   "source": [
    "The daily nutritional requirements are:\n",
    "    \n",
    "\n",
    "At least 20g protein\n",
    "\n",
    "\n",
    "No more than 10g fat\n",
    "\n",
    "\n",
    "At least 24g carbohydrates\n",
    "\n",
    "\n",
    "We need to decide how many servings of each food to provide to minimize the total cost.\n",
    "\n"
   ]
  },
  {
   "cell_type": "markdown",
   "id": "cc32662e",
   "metadata": {},
   "source": [
    "Linear Programming Model\n",
    "\n",
    "Let:\n",
    "    \n",
    "\n",
    "x = number of servings of Food A\n",
    "\n",
    "\n",
    "y = number of servings of Food B\n",
    "\n",
    "\n",
    "Objective:\n",
    "    \n",
    "Minimize:\n",
    "    \n",
    "    Cost=2x+1.5y\n",
    "    \n",
    "Subject to:\n",
    "    \n",
    "    Protein: 10x + 4y ≥ 20\n",
    "    \n",
    "    Fat: 6x + 3y ≤ 10\n",
    "\n",
    "    Carbs: 8x + 12y ≥ 24\n",
    "    \n",
    "    Non-negativity: x ≥ 0, y ≥ 0\n",
    "\n"
   ]
  },
  {
   "cell_type": "code",
   "execution_count": 2,
   "id": "2b10b286",
   "metadata": {},
   "outputs": [
    {
     "name": "stdout",
     "output_type": "stream",
     "text": [
      "Welcome to the CBC MILP Solver \n",
      "Version: 2.10.3 \n",
      "Build Date: Dec 15 2019 \n",
      "\n",
      "command line - /home/roniya/.local/lib/python3.10/site-packages/pulp/solverdir/cbc/linux/64/cbc /tmp/6a768efa0b394be1a4e6313fec1f953f-pulp.mps -timeMode elapsed -branch -printingOptions all -solution /tmp/6a768efa0b394be1a4e6313fec1f953f-pulp.sol (default strategy 1)\n",
      "At line 2 NAME          MODEL\n",
      "At line 3 ROWS\n",
      "At line 8 COLUMNS\n",
      "At line 17 RHS\n",
      "At line 21 BOUNDS\n",
      "At line 22 ENDATA\n",
      "Problem MODEL has 3 rows, 2 columns and 6 elements\n",
      "Coin0008I MODEL read with 0 errors\n",
      "Option for timeMode changed from cpu to elapsed\n",
      "Presolve 3 (0) rows, 2 (0) columns and 6 (0) elements\n",
      "0  Obj 0 Primal inf 3.9999998 (2)\n",
      "2  Obj 4.6363636 Primal inf 0.42424232 (1)\n",
      "Primal infeasible - objective value 4.6363636\n",
      "PrimalInfeasible objective 4.636363636 - 2 iterations time 0.002\n",
      "\n",
      "Result - Linear relaxation infeasible\n",
      "\n",
      "Enumerated nodes:           0\n",
      "Total iterations:           0\n",
      "Time (CPU seconds):         0.00\n",
      "Time (Wallclock Seconds):   0.00\n",
      "\n",
      "Option for printingOptions changed from normal to all\n",
      "Total time (CPU seconds):       0.00   (Wallclock seconds):       0.00\n",
      "\n",
      "Status: Infeasible\n",
      "Servings of Food A = 1.6363636\n",
      "Servings of Food B = 0.90909091\n",
      "Minimum Cost = € 4.64\n"
     ]
    }
   ],
   "source": [
    "import pulp\n",
    "\n",
    "# Define the LP problem\n",
    "model = pulp.LpProblem(\"Diet_Optimization\", pulp.LpMinimize)\n",
    "\n",
    "# Decision variables\n",
    "x = pulp.LpVariable('Food_A', lowBound=0, cat='Continuous')\n",
    "y = pulp.LpVariable('Food_B', lowBound=0, cat='Continuous')\n",
    "\n",
    "# Objective function: minimize total cost\n",
    "model += 2 * x + 1.5 * y, \"Total_Cost\"\n",
    "\n",
    "# Constraints\n",
    "model += 10 * x + 4 * y >= 20, \"Protein_Requirement\"\n",
    "model += 6 * x + 3 * y <= 10, \"Fat_Limit\"\n",
    "model += 8 * x + 12 * y >= 24, \"Carbohydrate_Requirement\"\n",
    "\n",
    "# Solve\n",
    "model.solve()\n",
    "print(\"Status:\", pulp.LpStatus[model.status])\n",
    "\n",
    "# Output results\n",
    "print(\"Servings of Food A =\", x.varValue)\n",
    "print(\"Servings of Food B =\", y.varValue)\n",
    "print(\"Minimum Cost = €\", round(pulp.value(model.objective), 2))"
   ]
  },
  {
   "cell_type": "code",
   "execution_count": null,
   "id": "dc6c18c5",
   "metadata": {},
   "outputs": [],
   "source": []
  }
 ],
 "metadata": {
  "kernelspec": {
   "display_name": "Python 3 (ipykernel)",
   "language": "python",
   "name": "python3"
  },
  "language_info": {
   "codemirror_mode": {
    "name": "ipython",
    "version": 3
   },
   "file_extension": ".py",
   "mimetype": "text/x-python",
   "name": "python",
   "nbconvert_exporter": "python",
   "pygments_lexer": "ipython3",
   "version": "3.10.7"
  }
 },
 "nbformat": 4,
 "nbformat_minor": 5
}
