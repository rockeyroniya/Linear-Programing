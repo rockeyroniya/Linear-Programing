{
 "cells": [
  {
   "cell_type": "markdown",
   "id": "cd72c623",
   "metadata": {},
   "source": [
    "# Solving Linear Programming Using Gurobi"
   ]
  },
  {
   "cell_type": "markdown",
   "id": "c05fe975",
   "metadata": {},
   "source": [
    "Gurobi is one of the fastest and most powerful commercial optimization solvers available. It can solve:\\\n",
    "\n",
    "\n",
    "Linear Programming (LP)\n",
    "\n",
    "Integer Programming (IP)\n",
    "\n",
    "Quadratic Programming (QP), etc."
   ]
  },
  {
   "cell_type": "markdown",
   "id": "eaf36258",
   "metadata": {},
   "source": [
    " Installation"
   ]
  },
  {
   "cell_type": "raw",
   "id": "e8210e6f",
   "metadata": {},
   "source": [
    "pip install gurobipy"
   ]
  },
  {
   "cell_type": "markdown",
   "id": "8dd22a6c",
   "metadata": {},
   "source": [
    "You import Model to define optimization problems.\n",
    "\n",
    "\n",
    "GRB is an object that holds constants like GRB.MAXIMIZE."
   ]
  },
  {
   "cell_type": "raw",
   "id": "89f25c22",
   "metadata": {},
   "source": [
    "from gurobipy import Model, GRB"
   ]
  },
  {
   "cell_type": "markdown",
   "id": "59c8949d",
   "metadata": {},
   "source": [
    "Create a Model"
   ]
  },
  {
   "cell_type": "raw",
   "id": "363122db",
   "metadata": {},
   "source": [
    "model = Model(\"lp\")"
   ]
  },
  {
   "cell_type": "markdown",
   "id": "580bcd71",
   "metadata": {},
   "source": [
    "Define Decision Variables"
   ]
  },
  {
   "cell_type": "raw",
   "id": "3b8e476f",
   "metadata": {},
   "source": [
    "x = model.addVar(lb=0, name=\"x\")\n",
    "y = model.addVar(lb=0, name=\"y\")"
   ]
  },
  {
   "cell_type": "markdown",
   "id": "6eb9dcd2",
   "metadata": {},
   "source": [
    "Adds two continuous variables x and y (default).\n",
    "\n",
    "\n",
    "lb=0 → lower bound is 0 (non-negative variables).\n",
    "\n",
    "\n",
    "name is optional but helps in debugging/reading output.\n"
   ]
  },
  {
   "cell_type": "markdown",
   "id": "681ac4e0",
   "metadata": {},
   "source": [
    " Set the Objective Function"
   ]
  },
  {
   "cell_type": "raw",
   "id": "5073f1c6",
   "metadata": {},
   "source": [
    "model.setObjective(40*x + 25*y, GRB.MAXIMIZE)"
   ]
  },
  {
   "cell_type": "markdown",
   "id": "31a2beea",
   "metadata": {},
   "source": [
    "Objective is to maximize profit: 40x + 25y\n",
    "\n",
    "\n",
    "GRB.MAXIMIZE tells Gurobi that it's a maximization problem."
   ]
  },
  {
   "cell_type": "markdown",
   "id": "44eaa0b9",
   "metadata": {},
   "source": [
    "Add Constraints"
   ]
  },
  {
   "cell_type": "raw",
   "id": "ef891e26",
   "metadata": {},
   "source": [
    "model.addConstr(3*x + 2*y <= 240, \"Wood\")\n",
    "model.addConstr(2*x + 1*y <= 100, \"Labor\")"
   ]
  },
  {
   "cell_type": "markdown",
   "id": "c59a80db",
   "metadata": {},
   "source": [
    "Constraint 1 (Wood):\n",
    "Each unit of product x uses 3 units of wood, y uses 2 units. Total available: 240\n",
    "   3x+2y≤240\n",
    "\n",
    "Constraint 2 (Labor):\n",
    "x uses 2 labor hours, y uses 1. Total available: 100\n",
    "   2x+y≤100"
   ]
  },
  {
   "cell_type": "raw",
   "id": "e408cbcd",
   "metadata": {},
   "source": [
    "model.optimize()"
   ]
  },
  {
   "cell_type": "markdown",
   "id": "417844c3",
   "metadata": {},
   "source": [
    "Calls the Gurobi solver to find the optimal values of x and y that maximize profit while satisfying constraints."
   ]
  },
  {
   "cell_type": "raw",
   "id": "4d3cabae",
   "metadata": {},
   "source": [
    "print(f\"x = {x.X}, y = {y.X}, Max Profit = {model.ObjVal}\")"
   ]
  },
  {
   "cell_type": "markdown",
   "id": "0b972681",
   "metadata": {},
   "source": [
    ".X gives the optimal value of a variable.\n",
    "\n",
    "\n",
    "model.ObjVal gives the maximum value of the objective function (profit)."
   ]
  },
  {
   "cell_type": "code",
   "execution_count": 5,
   "id": "7a0f216a",
   "metadata": {},
   "outputs": [
    {
     "name": "stdout",
     "output_type": "stream",
     "text": [
      "Gurobi Optimizer version 11.0.2 build v11.0.2rc0 (linux64 - \"Ubuntu 22.10\")\n",
      "\n",
      "CPU model: AMD Ryzen 5 5500U with Radeon Graphics, instruction set [SSE2|AVX|AVX2]\n",
      "Thread count: 6 physical cores, 12 logical processors, using up to 12 threads\n",
      "\n",
      "Optimize a model with 2 rows, 2 columns and 4 nonzeros\n",
      "Model fingerprint: 0xb88db982\n",
      "Coefficient statistics:\n",
      "  Matrix range     [1e+00, 3e+00]\n",
      "  Objective range  [2e+01, 4e+01]\n",
      "  Bounds range     [0e+00, 0e+00]\n",
      "  RHS range        [1e+02, 2e+02]\n",
      "Presolve time: 0.00s\n",
      "Presolved: 2 rows, 2 columns, 4 nonzeros\n",
      "\n",
      "Iteration    Objective       Primal Inf.    Dual Inf.      Time\n",
      "       0    8.0000000e+31   3.750000e+30   8.000000e+01      0s\n",
      "       1    2.0000000e+03   0.000000e+00   0.000000e+00      0s\n",
      "\n",
      "Solved in 1 iterations and 0.01 seconds (0.00 work units)\n",
      "Optimal objective  2.000000000e+03\n",
      "x = 0.0, y = 100.0, Max Profit = 2000.0\n"
     ]
    }
   ],
   "source": [
    "from gurobipy import Model, GRB\n",
    "\n",
    "# Create a new model\n",
    "model = Model(\"Maximize_Profit\")\n",
    "\n",
    "# Add decision variables x and y (both non-negative)\n",
    "x = model.addVar(lb=0, name=\"x\")  # Product A\n",
    "y = model.addVar(lb=0, name=\"y\")  # Product B\n",
    "\n",
    "# Set the objective: Maximize profit = 40x + 20y\n",
    "model.setObjective(40 * x + 20 * y, GRB.MAXIMIZE)\n",
    "\n",
    "# Add constraints\n",
    "model.addConstr(3 * x + 2 * y <= 240, name=\"Wood\")   # Wood constraint\n",
    "model.addConstr(2 * x + y <= 100, name=\"Labor\")      # Labor constraint\n",
    "\n",
    "# Solve the model\n",
    "model.optimize()\n",
    "\n",
    "# Display the results\n",
    "if model.status == GRB.OPTIMAL:\n",
    "    print(f\"x = {x.X}, y = {y.X}, Max Profit = {model.ObjVal}\")\n",
    "else:\n",
    "    print(\"No optimal solution found.\")"
   ]
  },
  {
   "cell_type": "code",
   "execution_count": null,
   "id": "8261b1e9",
   "metadata": {},
   "outputs": [],
   "source": []
  },
  {
   "cell_type": "code",
   "execution_count": null,
   "id": "ca5d01fc",
   "metadata": {},
   "outputs": [],
   "source": []
  }
 ],
 "metadata": {
  "kernelspec": {
   "display_name": "Python 3 (ipykernel)",
   "language": "python",
   "name": "python3"
  },
  "language_info": {
   "codemirror_mode": {
    "name": "ipython",
    "version": 3
   },
   "file_extension": ".py",
   "mimetype": "text/x-python",
   "name": "python",
   "nbconvert_exporter": "python",
   "pygments_lexer": "ipython3",
   "version": "3.10.7"
  }
 },
 "nbformat": 4,
 "nbformat_minor": 5
}
