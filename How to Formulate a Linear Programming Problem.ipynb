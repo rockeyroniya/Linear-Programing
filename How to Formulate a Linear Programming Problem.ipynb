{
 "cells": [
  {
   "cell_type": "markdown",
   "id": "0ba4918f",
   "metadata": {},
   "source": [
    "# How to Formulate a Linear Programming Problem\n"
   ]
  },
  {
   "cell_type": "markdown",
   "id": "484a2987",
   "metadata": {},
   "source": [
    "To formulate an LP problem, follow these steps:\n",
    "\n",
    "1. Define the Decision Variables\n",
    "These are the unknowns you need to determine.\n",
    "Example:\n",
    "\n",
    "Let x = number of tables to produce\n",
    "\n",
    "Let y = number of chairs to produce\n",
    "\n",
    "2. Write the Objective Function\n",
    "This is what you want to maximize or minimize, like profit, cost, or time.\n",
    "\n",
    "Example:\n",
    "\n",
    "If a table gives $40 profit and a chair gives $25:\n",
    "Maximize: Z = 40x + 25y\n",
    "\n",
    "3. Set the Constraints\n",
    "These are the conditions or limits (like time, resources, budget).\n",
    "\n",
    "Example:\n",
    "\n",
    "Wood constraint: 3x + 2y ≤ 240\n",
    "\n",
    "Labor constraint: 2x + y ≤ 100\n",
    "\n",
    "4. Include Non-Negativity Conditions\n",
    "Always assume you can’t produce negative quantities:"
   ]
  },
  {
   "cell_type": "raw",
   "id": "d7b00a8e",
   "metadata": {},
   "source": [
    "x ≥ 0, y ≥ 0"
   ]
  },
  {
   "cell_type": "markdown",
   "id": "38050f81",
   "metadata": {},
   "source": [
    "Example Problem\n",
    "\n",
    "A carpenter makes chairs and tables.\n",
    "\n",
    "A table gives $40 profit, a chair gives $25 profit\n",
    "\n",
    "Each table needs 3 units of wood and 2 hours of labor\n",
    "\n",
    "Each chair needs 2 units of wood and 1 hour of labor\n",
    "\n",
    "Available: 240 units of wood, 100 hours of labor\n",
    "\n",
    "Step-by-Step Formulation:\n",
    "Decision variables:\n",
    "\n",
    "Let x = number of tables\n",
    "\n",
    "Let y = number of chairs\n",
    "\n",
    "Objective:\n",
    "\n",
    "Maximize profit Z = 40x + 25y"
   ]
  },
  {
   "cell_type": "raw",
   "id": "e420dda3",
   "metadata": {},
   "source": [
    "3x + 2y ≤ 240   (wood)\n",
    "2x + y ≤ 100    (labor)\n",
    "x ≥ 0, y ≥ 0"
   ]
  },
  {
   "cell_type": "code",
   "execution_count": null,
   "id": "a6d55664",
   "metadata": {},
   "outputs": [],
   "source": []
  },
  {
   "cell_type": "code",
   "execution_count": null,
   "id": "e624c5e5",
   "metadata": {},
   "outputs": [],
   "source": []
  }
 ],
 "metadata": {
  "kernelspec": {
   "display_name": "Python 3 (ipykernel)",
   "language": "python",
   "name": "python3"
  },
  "language_info": {
   "codemirror_mode": {
    "name": "ipython",
    "version": 3
   },
   "file_extension": ".py",
   "mimetype": "text/x-python",
   "name": "python",
   "nbconvert_exporter": "python",
   "pygments_lexer": "ipython3",
   "version": "3.10.7"
  }
 },
 "nbformat": 4,
 "nbformat_minor": 5
}
