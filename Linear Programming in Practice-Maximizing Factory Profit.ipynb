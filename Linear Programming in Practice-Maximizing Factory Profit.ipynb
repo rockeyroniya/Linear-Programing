{
 "cells": [
  {
   "cell_type": "markdown",
   "id": "e15ecf2a",
   "metadata": {},
   "source": [
    "# Case Study: Optimal Production Strategy for a Luxury Car Manufacturer"
   ]
  },
  {
   "cell_type": "code",
   "execution_count": 2,
   "id": "9668f528",
   "metadata": {},
   "outputs": [],
   "source": [
    "# Introduction to Linear Programming with Python - Part 3\n",
    "# Real World Example - Resourcing Problem\n",
    "\n",
    "# Problem: Boutique car manufacturer wants to optimize profit using limited resources.\n",
    "\n",
    "# We have:\n",
    "# - 1 robot with 30 available days\n",
    "# - 2 engineers with 30 days each = 60 total days\n",
    "# - 1 detailer with only 21 available days (due to vacation)\n",
    "\n",
    "# Car A requires:\n",
    "#   3 robot days, 5 engineer days, 1.5 detailer days\n",
    "#   Profit = €30,000\n",
    "\n",
    "# Car B requires:\n",
    "#   4 robot days, 6 engineer days, 3 detailer days\n",
    "#   Profit = €45,000\n",
    "\n",
    "# Goal: Maximize total profit by choosing how many of each car to build"
   ]
  },
  {
   "cell_type": "code",
   "execution_count": 3,
   "id": "1e121713",
   "metadata": {},
   "outputs": [],
   "source": [
    "# Step 1: Import the PuLP library\n",
    "import pulp"
   ]
  },
  {
   "cell_type": "code",
   "execution_count": 4,
   "id": "198cf6fd",
   "metadata": {},
   "outputs": [],
   "source": [
    "# Step 2: Define the LP problem\n",
    "model = pulp.LpProblem(\"Maximize_Factory_Profit\", pulp.LpMaximize)"
   ]
  },
  {
   "cell_type": "code",
   "execution_count": 5,
   "id": "3ed4d1fa",
   "metadata": {},
   "outputs": [],
   "source": [
    "# Step 3: Define decision variables (integers, since we can't make part of a car)\n",
    "A = pulp.LpVariable('Car_A', lowBound=0, cat='Integer')\n",
    "B = pulp.LpVariable('Car_B', lowBound=0, cat='Integer')"
   ]
  },
  {
   "cell_type": "code",
   "execution_count": 6,
   "id": "5d27caf4",
   "metadata": {},
   "outputs": [],
   "source": [
    "# Step 4: Define the objective function (maximize profit)\n",
    "model += 30000 * A + 45000 * B, \"Total_Profit\""
   ]
  },
  {
   "cell_type": "code",
   "execution_count": 7,
   "id": "562ad3ce",
   "metadata": {},
   "outputs": [],
   "source": [
    "# Step 5: Define the constraints\n",
    "model += 3 * A + 4 * B <= 30, \"Robot_Time\"\n",
    "model += 5 * A + 6 * B <= 60, \"Engineer_Time\"\n",
    "model += 1.5 * A + 3 * B <= 21, \"Detailer_Time\""
   ]
  },
  {
   "cell_type": "code",
   "execution_count": 8,
   "id": "58900fcd",
   "metadata": {},
   "outputs": [
    {
     "name": "stdout",
     "output_type": "stream",
     "text": [
      "Welcome to the CBC MILP Solver \n",
      "Version: 2.10.3 \n",
      "Build Date: Dec 15 2019 \n",
      "\n",
      "command line - /home/roniya/.local/lib/python3.10/site-packages/pulp/solverdir/cbc/linux/64/cbc /tmp/0d24fa0250484ff8994538a2d7c9e1a8-pulp.mps -max -timeMode elapsed -branch -printingOptions all -solution /tmp/0d24fa0250484ff8994538a2d7c9e1a8-pulp.sol (default strategy 1)\n",
      "At line 2 NAME          MODEL\n",
      "At line 3 ROWS\n",
      "At line 8 COLUMNS\n",
      "At line 21 RHS\n",
      "At line 25 BOUNDS\n",
      "At line 28 ENDATA\n",
      "Problem MODEL has 3 rows, 2 columns and 6 elements\n",
      "Coin0008I MODEL read with 0 errors\n",
      "Option for timeMode changed from cpu to elapsed\n",
      "Continuous objective value is 330000 - 0.00 seconds\n",
      "Cgl0004I processed model has 3 rows, 2 columns (2 integer (0 of which binary)) and 6 elements\n",
      "Cutoff increment increased from 1e-05 to 15000\n",
      "Cbc0012I Integer solution of -330000 found by DiveCoefficient after 0 iterations and 0 nodes (0.00 seconds)\n",
      "Cbc0001I Search completed - best objective -330000, took 0 iterations and 0 nodes (0.00 seconds)\n",
      "Cbc0035I Maximum depth 0, 0 variables fixed on reduced cost\n",
      "Cuts at root node changed objective from -330000 to -330000\n",
      "Probing was tried 0 times and created 0 cuts of which 0 were active after adding rounds of cuts (0.000 seconds)\n",
      "Gomory was tried 0 times and created 0 cuts of which 0 were active after adding rounds of cuts (0.000 seconds)\n",
      "Knapsack was tried 0 times and created 0 cuts of which 0 were active after adding rounds of cuts (0.000 seconds)\n",
      "Clique was tried 0 times and created 0 cuts of which 0 were active after adding rounds of cuts (0.000 seconds)\n",
      "MixedIntegerRounding2 was tried 0 times and created 0 cuts of which 0 were active after adding rounds of cuts (0.000 seconds)\n",
      "FlowCover was tried 0 times and created 0 cuts of which 0 were active after adding rounds of cuts (0.000 seconds)\n",
      "TwoMirCuts was tried 0 times and created 0 cuts of which 0 were active after adding rounds of cuts (0.000 seconds)\n",
      "ZeroHalf was tried 0 times and created 0 cuts of which 0 were active after adding rounds of cuts (0.000 seconds)\n",
      "\n",
      "Result - Optimal solution found\n",
      "\n",
      "Objective value:                330000.00000000\n",
      "Enumerated nodes:               0\n",
      "Total iterations:               0\n",
      "Time (CPU seconds):             0.00\n",
      "Time (Wallclock seconds):       0.00\n",
      "\n",
      "Option for printingOptions changed from normal to all\n",
      "Total time (CPU seconds):       0.00   (Wallclock seconds):       0.01\n",
      "\n",
      "Status: Optimal\n"
     ]
    }
   ],
   "source": [
    "# Step 6: Solve the problem\n",
    "model.solve()\n",
    "print(\"Status:\", pulp.LpStatus[model.status])"
   ]
  },
  {
   "cell_type": "code",
   "execution_count": 9,
   "id": "8148da10",
   "metadata": {},
   "outputs": [
    {
     "name": "stdout",
     "output_type": "stream",
     "text": [
      "Production of Car A = 2.0\n",
      "Production of Car B = 6.0\n"
     ]
    }
   ],
   "source": [
    "# Step 7: Display the optimal number of each car to produce\n",
    "print(\"Production of Car A =\", A.varValue)\n",
    "print(\"Production of Car B =\", B.varValue)"
   ]
  },
  {
   "cell_type": "code",
   "execution_count": 10,
   "id": "555a2675",
   "metadata": {},
   "outputs": [
    {
     "name": "stdout",
     "output_type": "stream",
     "text": [
      "Maximum Profit = € 330000.0\n"
     ]
    }
   ],
   "source": [
    "# Step 8: Display the maximum total profit\n",
    "print(\"Maximum Profit = €\", pulp.value(model.objective))"
   ]
  },
  {
   "cell_type": "markdown",
   "id": "a625e18e",
   "metadata": {},
   "source": [
    "This solution shows that producing 2 Car A and 6 Car B will yield a profit of €330,000, which is €30,000 more than the current setup."
   ]
  },
  {
   "cell_type": "code",
   "execution_count": null,
   "id": "492b2c04",
   "metadata": {},
   "outputs": [],
   "source": []
  }
 ],
 "metadata": {
  "kernelspec": {
   "display_name": "Python 3 (ipykernel)",
   "language": "python",
   "name": "python3"
  },
  "language_info": {
   "codemirror_mode": {
    "name": "ipython",
    "version": 3
   },
   "file_extension": ".py",
   "mimetype": "text/x-python",
   "name": "python",
   "nbconvert_exporter": "python",
   "pygments_lexer": "ipython3",
   "version": "3.10.7"
  }
 },
 "nbformat": 4,
 "nbformat_minor": 5
}
