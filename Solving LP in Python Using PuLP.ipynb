{
 "cells": [
  {
   "cell_type": "markdown",
   "id": "96c42d51",
   "metadata": {},
   "source": [
    "# Solving Linear Programming in Python Using PuLP"
   ]
  },
  {
   "cell_type": "markdown",
   "id": "091ece25",
   "metadata": {},
   "source": [
    "Step 1: Install PuLP\n",
    "\n",
    "If you don’t have PuLP installed, you can install it via pip:"
   ]
  },
  {
   "cell_type": "raw",
   "id": "8ee65490",
   "metadata": {},
   "source": [
    "pip install pulp"
   ]
  },
  {
   "cell_type": "markdown",
   "id": "0f0a6c6c",
   "metadata": {},
   "source": [
    "Step 2: Import PuLP"
   ]
  },
  {
   "cell_type": "raw",
   "id": "75b5bb42",
   "metadata": {},
   "source": [
    "from pulp import LpMaximize, LpProblem, LpVariable, value"
   ]
  },
  {
   "cell_type": "markdown",
   "id": "db2bab84",
   "metadata": {},
   "source": [
    "Step 3: Define the Problem\n",
    "\n",
    "Create a problem instance and specify whether it is a maximization or minimization.\n"
   ]
  },
  {
   "cell_type": "raw",
   "id": "724a99aa",
   "metadata": {},
   "source": [
    "# Create a maximization problem\n",
    "problem = LpProblem(\"Bakery_Profit_Maximization\", LpMaximize)"
   ]
  },
  {
   "cell_type": "markdown",
   "id": "abdd6f4f",
   "metadata": {},
   "source": [
    "Step 4: Define Decision Variables\n",
    "\n",
    "Here, variables are the number of cakes and cookies produced. They cannot be negative.\n"
   ]
  },
  {
   "cell_type": "raw",
   "id": "f29899c1",
   "metadata": {},
   "source": [
    "# Variables: number of cakes (x) and cookies (y)\n",
    "x = LpVariable('cakes', lowBound=0)    # cakes >= 0\n",
    "y = LpVariable('cookies', lowBound=0)  # cookies >= 0"
   ]
  },
  {
   "cell_type": "markdown",
   "id": "01630c1e",
   "metadata": {},
   "source": [
    "Step 5: Set the Objective Function\n",
    "\n",
    "    Maximize total profit:\n",
    "        \n",
    "        Z=5x+3y\n",
    "        "
   ]
  },
  {
   "cell_type": "raw",
   "id": "19a3a3a4",
   "metadata": {},
   "source": [
    "problem += 5 * x + 3 * y, \"Total Profit\""
   ]
  },
  {
   "cell_type": "markdown",
   "id": "f61745eb",
   "metadata": {},
   "source": [
    "Step 6: Add Constraints\n",
    "\n",
    "    Flour: 2x+1y≤100\n",
    "    \n",
    "\n",
    "    Sugar: 1x+1y≤80\n",
    "    "
   ]
  },
  {
   "cell_type": "raw",
   "id": "572db7cf",
   "metadata": {},
   "source": [
    "problem += 2 * x + 1 * y <= 100, \"Flour Constraint\"\n",
    "problem += 1 * x + 1 * y <= 80, \"Sugar Constraint\""
   ]
  },
  {
   "cell_type": "markdown",
   "id": "89e3a317",
   "metadata": {},
   "source": [
    "Step 7: Solve the Problem"
   ]
  },
  {
   "cell_type": "raw",
   "id": "f35661ff",
   "metadata": {},
   "source": [
    "problem.solve()"
   ]
  },
  {
   "cell_type": "markdown",
   "id": "f0b6ac1e",
   "metadata": {},
   "source": [
    "Step 8: Extract and Display the Results"
   ]
  },
  {
   "cell_type": "raw",
   "id": "04d50fa4",
   "metadata": {},
   "source": [
    "print(f\"Status: {problem.status}, {problem.solver.status}\")\n",
    "print(f\"Optimal number of cakes to produce: {x.varValue}\")\n",
    "print(f\"Optimal number of cookies to produce: {y.varValue}\")\n",
    "print(f\"Maximum Profit: ${value(problem.objective)}\")"
   ]
  },
  {
   "cell_type": "code",
   "execution_count": 4,
   "id": "f7acaa13",
   "metadata": {},
   "outputs": [
    {
     "name": "stdout",
     "output_type": "stream",
     "text": [
      "Welcome to the CBC MILP Solver \n",
      "Version: 2.10.3 \n",
      "Build Date: Dec 15 2019 \n",
      "\n",
      "command line - /home/roniya/.local/lib/python3.10/site-packages/pulp/solverdir/cbc/linux/64/cbc /tmp/43cc338899d244449c3d6e84ef5990ef-pulp.mps -max -timeMode elapsed -branch -printingOptions all -solution /tmp/43cc338899d244449c3d6e84ef5990ef-pulp.sol (default strategy 1)\n",
      "At line 2 NAME          MODEL\n",
      "At line 3 ROWS\n",
      "At line 7 COLUMNS\n",
      "At line 14 RHS\n",
      "At line 17 BOUNDS\n",
      "At line 18 ENDATA\n",
      "Problem MODEL has 2 rows, 2 columns and 4 elements\n",
      "Coin0008I MODEL read with 0 errors\n",
      "Option for timeMode changed from cpu to elapsed\n",
      "Presolve 2 (0) rows, 2 (0) columns and 4 (0) elements\n",
      "0  Obj -0 Dual inf 7.9999998 (2)\n",
      "0  Obj -0 Dual inf 7.9999998 (2)\n",
      "2  Obj 280\n",
      "Optimal - objective value 280\n",
      "Optimal objective 280 - 2 iterations time 0.002\n",
      "Option for printingOptions changed from normal to all\n",
      "Total time (CPU seconds):       0.00   (Wallclock seconds):       0.00\n",
      "\n",
      "Status: Optimal\n",
      "Optimal number of cakes to produce: 20.0\n",
      "Optimal number of cookies to produce: 60.0\n",
      "Maximum Profit: $280.0\n"
     ]
    }
   ],
   "source": [
    "from pulp import LpMaximize, LpProblem, LpVariable, value, LpStatus\n",
    "\n",
    "# Define the LP problem (maximization)\n",
    "problem = LpProblem(\"Bakery_Profit_Maximization\", LpMaximize)\n",
    "\n",
    "# Decision variables: number of cakes and cookies (non-negative)\n",
    "x = LpVariable('cakes', lowBound=0)\n",
    "y = LpVariable('cookies', lowBound=0)\n",
    "\n",
    "# Objective function: Maximize profit = 5x + 3y\n",
    "problem += 5 * x + 3 * y, \"Total Profit\"\n",
    "\n",
    "# Constraints:\n",
    "problem += 2 * x + 1 * y <= 100, \"Flour Constraint\"\n",
    "problem += 1 * x + 1 * y <= 80, \"Sugar Constraint\"\n",
    "\n",
    "# Solve the problem\n",
    "problem.solve()\n",
    "\n",
    "# Print the status of the solution\n",
    "print(f\"Status: {LpStatus[problem.status]}\")\n",
    "\n",
    "# Print the optimal values of decision variables\n",
    "print(f\"Optimal number of cakes to produce: {x.varValue}\")\n",
    "print(f\"Optimal number of cookies to produce: {y.varValue}\")\n",
    "\n",
    "# Print the maximum profit\n",
    "print(f\"Maximum Profit: ${value(problem.objective)}\")"
   ]
  },
  {
   "cell_type": "code",
   "execution_count": null,
   "id": "5353d0fc",
   "metadata": {},
   "outputs": [],
   "source": []
  }
 ],
 "metadata": {
  "kernelspec": {
   "display_name": "Python 3 (ipykernel)",
   "language": "python",
   "name": "python3"
  },
  "language_info": {
   "codemirror_mode": {
    "name": "ipython",
    "version": 3
   },
   "file_extension": ".py",
   "mimetype": "text/x-python",
   "name": "python",
   "nbconvert_exporter": "python",
   "pygments_lexer": "ipython3",
   "version": "3.10.7"
  }
 },
 "nbformat": 4,
 "nbformat_minor": 5
}
